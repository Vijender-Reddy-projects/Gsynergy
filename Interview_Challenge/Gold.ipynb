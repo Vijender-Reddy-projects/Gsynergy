{
 "cells": [
  {
   "cell_type": "markdown",
   "metadata": {
    "application/vnd.databricks.v1+cell": {
     "cellMetadata": {},
     "inputWidgets": {},
     "nuid": "52f2a4d8-fbf6-4292-b067-d20bcd450d03",
     "showTitle": false,
     "tableResultSettingsMap": {},
     "title": ""
    }
   },
   "source": [
    "## Aggregated table loading into gold incrementally"
   ]
  },
  {
   "cell_type": "markdown",
   "metadata": {
    "application/vnd.databricks.v1+cell": {
     "cellMetadata": {},
     "inputWidgets": {},
     "nuid": "9c9f1b76-73a6-4617-ac99-0aa0eb19e3a3",
     "showTitle": false,
     "tableResultSettingsMap": {},
     "title": ""
    }
   },
   "source": [
    "Reading data from Silver using PySpark"
   ]
  },
  {
   "cell_type": "code",
   "execution_count": 0,
   "metadata": {
    "application/vnd.databricks.v1+cell": {
     "cellMetadata": {
      "byteLimit": 2048000,
      "rowLimit": 10000
     },
     "inputWidgets": {},
     "nuid": "929222b8-6a31-4340-a58b-43b4032fda39",
     "showTitle": false,
     "tableResultSettingsMap": {},
     "title": ""
    }
   },
   "outputs": [],
   "source": [
    "df_fact_transactions = spark.read.format(\"delta\").load(\"abfss://silver@dlgysnergy.dfs.core.windows.net/stg_hier_fact_transactions_sl\")\n",
    "df_fact_transactions.createOrReplaceTempView(\"stg_fact_transactions\")\n"
   ]
  },
  {
   "cell_type": "code",
   "execution_count": 0,
   "metadata": {
    "application/vnd.databricks.v1+cell": {
     "cellMetadata": {
      "byteLimit": 2048000,
      "implicitDf": true,
      "rowLimit": 10000
     },
     "inputWidgets": {},
     "nuid": "82e7b314-d873-4d5b-89ab-fbbc35ff932e",
     "showTitle": false,
     "tableResultSettingsMap": {},
     "title": ""
    }
   },
   "outputs": [],
   "source": [
    "%sql\n",
    "SELECT * FROM stg_fact_transactions\n",
    "LIMIT 10;\n"
   ]
  },
  {
   "cell_type": "markdown",
   "metadata": {
    "application/vnd.databricks.v1+cell": {
     "cellMetadata": {},
     "inputWidgets": {},
     "nuid": "ce84b89b-63cc-4fd5-87dd-e91ad14402bb",
     "showTitle": false,
     "tableResultSettingsMap": {},
     "title": ""
    }
   },
   "source": [
    "Aggregating the weekly sales using SQL"
   ]
  },
  {
   "cell_type": "code",
   "execution_count": 0,
   "metadata": {
    "application/vnd.databricks.v1+cell": {
     "cellMetadata": {
      "byteLimit": 2048000,
      "implicitDf": true,
      "rowLimit": 10000
     },
     "inputWidgets": {},
     "nuid": "adf50d20-6640-4438-9498-46a80cdbd33d",
     "showTitle": false,
     "tableResultSettingsMap": {},
     "title": ""
    }
   },
   "outputs": [],
   "source": [
    "%sql\n",
    "CREATE OR REPLACE TEMP VIEW agg_weekly_sales AS\n",
    "SELECT\n",
    "  pos_site_id,\n",
    "  sku_id,\n",
    "  fscldt_id,\n",
    "  price_substate_id,\n",
    "  type,\n",
    "  SUM(sales_units) AS total_sales_units,\n",
    "  SUM(sales_dollars) AS total_sales_dollars,\n",
    "  SUM(discount_dollars) AS total_discount_dollars\n",
    "FROM stg_fact_transactions\n",
    "GROUP BY pos_site_id, sku_id, fscldt_id, price_substate_id, type;\n"
   ]
  },
  {
   "cell_type": "code",
   "execution_count": 0,
   "metadata": {
    "application/vnd.databricks.v1+cell": {
     "cellMetadata": {
      "byteLimit": 2048000,
      "implicitDf": true,
      "rowLimit": 10000
     },
     "inputWidgets": {},
     "nuid": "b1188b07-af7e-49f3-8974-e312b1d35b82",
     "showTitle": false,
     "tableResultSettingsMap": {},
     "title": ""
    }
   },
   "outputs": [],
   "source": [
    "%sql\n",
    "SELECT * FROM agg_weekly_sales\n",
    "LIMIT 10;\n"
   ]
  },
  {
   "cell_type": "markdown",
   "metadata": {
    "application/vnd.databricks.v1+cell": {
     "cellMetadata": {},
     "inputWidgets": {},
     "nuid": "7dcb8ced-937d-49cb-a48e-2e01e17ebb90",
     "showTitle": false,
     "tableResultSettingsMap": {},
     "title": ""
    }
   },
   "source": [
    "Merge changes into Gold layer using CDC logic(incremental load)"
   ]
  },
  {
   "cell_type": "code",
   "execution_count": 0,
   "metadata": {
    "application/vnd.databricks.v1+cell": {
     "cellMetadata": {
      "byteLimit": 2048000,
      "implicitDf": true,
      "rowLimit": 10000
     },
     "inputWidgets": {},
     "nuid": "995ba79f-fc45-40a5-9363-8589fc78a0cb",
     "showTitle": false,
     "tableResultSettingsMap": {},
     "title": ""
    }
   },
   "outputs": [],
   "source": [
    "%sql\n",
    "CREATE TABLE IF NOT EXISTS delta.`abfss://gold@dlgysnergy.dfs.core.windows.net/mview_weekly_sales`\n",
    "AS\n",
    "SELECT * FROM agg_weekly_sales"
   ]
  },
  {
   "cell_type": "code",
   "execution_count": 0,
   "metadata": {
    "application/vnd.databricks.v1+cell": {
     "cellMetadata": {
      "byteLimit": 2048000,
      "implicitDf": true,
      "rowLimit": 10000
     },
     "inputWidgets": {},
     "nuid": "168806fa-2901-49e4-8b70-f21270697ad4",
     "showTitle": false,
     "tableResultSettingsMap": {},
     "title": ""
    }
   },
   "outputs": [],
   "source": [
    "%sql\n",
    "MERGE INTO delta.`abfss://gold@dlgysnergy.dfs.core.windows.net/mview_weekly_sales` AS target\n",
    "USING agg_weekly_sales AS source\n",
    "ON  target.pos_site_id = source.pos_site_id\n",
    "AND target.sku_id = source.sku_id\n",
    "AND target.fscldt_id = source.fscldt_id\n",
    "AND target.price_substate_id = source.price_substate_id\n",
    "AND target.type = source.type\n",
    "WHEN MATCHED THEN UPDATE SET\n",
    "  target.total_sales_units = source.total_sales_units,\n",
    "  target.total_sales_dollars = source.total_sales_dollars,\n",
    "  target.total_discount_dollars = source.total_discount_dollars\n",
    "WHEN NOT MATCHED THEN INSERT (\n",
    "  pos_site_id,\n",
    "  sku_id,\n",
    "  fscldt_id,\n",
    "  price_substate_id,\n",
    "  type,\n",
    "  total_sales_units,\n",
    "  total_sales_dollars,\n",
    "  total_discount_dollars\n",
    ") VALUES (\n",
    "  source.pos_site_id,\n",
    "  source.sku_id,\n",
    "  source.fscldt_id,\n",
    "  source.price_substate_id,\n",
    "  source.type,\n",
    "  source.total_sales_units,\n",
    "  source.total_sales_dollars,\n",
    "  source.total_discount_dollars\n",
    ");\n"
   ]
  },
  {
   "cell_type": "code",
   "execution_count": 0,
   "metadata": {
    "application/vnd.databricks.v1+cell": {
     "cellMetadata": {
      "byteLimit": 2048000,
      "rowLimit": 10000
     },
     "inputWidgets": {},
     "nuid": "62e282ff-3e01-4d31-a941-d16feb444aa5",
     "showTitle": false,
     "tableResultSettingsMap": {},
     "title": ""
    }
   },
   "outputs": [],
   "source": [
    "\n",
    "# Optional: Verify data in Gold Layer\n",
    "df_gold = spark.read.format(\"delta\").load(\"abfss://gold@dlgysnergy.dfs.core.windows.net/mview_weekly_sales\")\n",
    "df_gold.limit(20).display()\n"
   ]
  }
 ],
 "metadata": {
  "application/vnd.databricks.v1+notebook": {
   "computePreferences": null,
   "dashboards": [],
   "environmentMetadata": {
    "base_environment": "",
    "environment_version": "2"
   },
   "inputWidgetPreferences": null,
   "language": "python",
   "notebookMetadata": {
    "mostRecentlyExecutedCommandWithImplicitDF": {
     "commandId": 6302776922984708,
     "dataframes": [
      "_sqldf"
     ]
    },
    "pythonIndentUnit": 4
   },
   "notebookName": "Gold",
   "widgets": {}
  },
  "language_info": {
   "name": "python"
  }
 },
 "nbformat": 4,
 "nbformat_minor": 0
}
