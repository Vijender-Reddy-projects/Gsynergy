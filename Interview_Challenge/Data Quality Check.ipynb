{
 "cells": [
  {
   "cell_type": "markdown",
   "metadata": {
    "application/vnd.databricks.v1+cell": {
     "cellMetadata": {},
     "inputWidgets": {},
     "nuid": "c2c6d4cb-a148-4e16-91f5-b0c233025879",
     "showTitle": false,
     "tableResultSettingsMap": {},
     "title": ""
    }
   },
   "source": [
    "# Data Quality Check\n",
    "\n",
    "This notebook is used for data exploration by checking null values, missing data, and the uniqueness of primary keys."
   ]
  },
  {
   "cell_type": "code",
   "execution_count": 0,
   "metadata": {
    "application/vnd.databricks.v1+cell": {
     "cellMetadata": {
      "byteLimit": 2048000,
      "rowLimit": 10000
     },
     "inputWidgets": {},
     "nuid": "5f5b4f8a-9619-42e9-a6b0-216d0f8ded15",
     "showTitle": false,
     "tableResultSettingsMap": {},
     "title": ""
    }
   },
   "outputs": [],
   "source": [
    "from pyspark.sql.functions import *\n",
    "from pyspark.sql import *"
   ]
  },
  {
   "cell_type": "markdown",
   "metadata": {
    "application/vnd.databricks.v1+cell": {
     "cellMetadata": {},
     "inputWidgets": {},
     "nuid": "d74561ab-baeb-4298-a68a-a68b2dbcbc58",
     "showTitle": false,
     "tableResultSettingsMap": {},
     "title": ""
    }
   },
   "source": [
    "Assigning variables for storing the path of the file in the silver container"
   ]
  },
  {
   "cell_type": "code",
   "execution_count": 0,
   "metadata": {
    "application/vnd.databricks.v1+cell": {
     "cellMetadata": {
      "byteLimit": 2048000,
      "rowLimit": 10000
     },
     "inputWidgets": {},
     "nuid": "db3e6f30-8634-4460-b7f6-4accc1919074",
     "showTitle": false,
     "tableResultSettingsMap": {},
     "title": ""
    }
   },
   "outputs": [],
   "source": [
    "fact_transactions_silver_path = \"abfss://silver@dlgysnergy.dfs.core.windows.net/fact_transactions\"\n",
    "hier_clnd_silver_path = \"abfss://silver@dlgysnergy.dfs.core.windows.net/hier_clnd\"\n",
    "hier_hldy_silver_path = \"abfss://silver@dlgysnergy.dfs.core.windows.net/hier_hldy\"\n",
    "hier_invloc_silver_path = \"abfss://silver@dlgysnergy.dfs.core.windows.net/hier_invloc\"\n",
    "hier_invstatus_silver_path = \"abfss://silver@dlgysnergy.dfs.core.windows.net/hier_invstatus\"\n",
    "hier_possite_silver_path = \"abfss://silver@dlgysnergy.dfs.core.windows.net/hier_possite\"\n",
    "hier_pricestate_silver_path = \"abfss://silver@dlgysnergy.dfs.core.windows.net/hier_pricestate\"\n",
    "hier_prod__silverpath = \"abfss://silver@dlgysnergy.dfs.core.windows.net/hier_prod\"\n",
    "hier_rtlloc_silver_path = \"abfss://silver@dlgysnergy.dfs.core.windows.net/hier_rtlloc\"\n"
   ]
  },
  {
   "cell_type": "markdown",
   "metadata": {
    "application/vnd.databricks.v1+cell": {
     "cellMetadata": {},
     "inputWidgets": {},
     "nuid": "d7a6332a-2e58-4a29-a441-41a5afd65e15",
     "showTitle": false,
     "tableResultSettingsMap": {},
     "title": ""
    }
   },
   "source": [
    "This function reads the files from silver container which are stored in delta format"
   ]
  },
  {
   "cell_type": "code",
   "execution_count": 0,
   "metadata": {
    "application/vnd.databricks.v1+cell": {
     "cellMetadata": {
      "byteLimit": 2048000,
      "rowLimit": 10000
     },
     "inputWidgets": {},
     "nuid": "426b2605-de25-4ab0-b47b-8653d077801e",
     "showTitle": false,
     "tableResultSettingsMap": {},
     "title": ""
    }
   },
   "outputs": [],
   "source": [
    "def read_delta_from_silver(file_path):\n",
    "    return spark.read.format(\"delta\").load(file_path)\n"
   ]
  },
  {
   "cell_type": "code",
   "execution_count": 0,
   "metadata": {
    "application/vnd.databricks.v1+cell": {
     "cellMetadata": {
      "byteLimit": 2048000,
      "rowLimit": 10000
     },
     "inputWidgets": {},
     "nuid": "507eae8f-0caf-4fec-8828-96d131e26d28",
     "showTitle": false,
     "tableResultSettingsMap": {},
     "title": ""
    }
   },
   "outputs": [],
   "source": [
    "fact_transactions_silver = read_delta_from_silver(fact_transactions_silver_path)\n",
    "hier_clnd_silver = read_delta_from_silver(hier_clnd_silver_path)"
   ]
  },
  {
   "cell_type": "code",
   "execution_count": 0,
   "metadata": {
    "application/vnd.databricks.v1+cell": {
     "cellMetadata": {
      "byteLimit": 2048000,
      "rowLimit": 10000
     },
     "inputWidgets": {},
     "nuid": "ca164c95-0838-4bf2-a855-1f1e9d694474",
     "showTitle": false,
     "tableResultSettingsMap": {},
     "title": ""
    }
   },
   "outputs": [],
   "source": [
    "def find_null_missing(df):\n",
    "    results = []\n",
    "\n",
    "    for column in df.columns:\n",
    "        null_count = df.filter(col(column).isNull()).count()\n",
    "\n",
    "        # Check for empty strings only in string-type columns\n",
    "        if df.schema[column].dataType.simpleString() == 'string':\n",
    "            empty_count = df.filter(col(column) == '').count()\n",
    "        else:\n",
    "            empty_count = NA\n",
    "\n",
    "        results.append(Row(\n",
    "            Column=column,\n",
    "            Null_Values=null_count,\n",
    "            Empty_Strings=empty_count\n",
    "        ))\n",
    "\n",
    "    return spark.createDataFrame(results)"
   ]
  },
  {
   "cell_type": "code",
   "execution_count": 0,
   "metadata": {
    "application/vnd.databricks.v1+cell": {
     "cellMetadata": {
      "byteLimit": 2048000,
      "rowLimit": 10000
     },
     "inputWidgets": {},
     "nuid": "ab666925-6d7a-48ff-a044-77524270af21",
     "showTitle": false,
     "tableResultSettingsMap": {},
     "title": ""
    }
   },
   "outputs": [],
   "source": [
    "find_null_missing(fact_transactions_silver).show()"
   ]
  },
  {
   "cell_type": "code",
   "execution_count": 0,
   "metadata": {
    "application/vnd.databricks.v1+cell": {
     "cellMetadata": {
      "byteLimit": 2048000,
      "rowLimit": 10000
     },
     "inputWidgets": {},
     "nuid": "60852e1c-e424-4e06-ad9d-e01c796297fa",
     "showTitle": false,
     "tableResultSettingsMap": {},
     "title": ""
    }
   },
   "outputs": [],
   "source": [
    "fact_transactions_silver.count()"
   ]
  }
 ],
 "metadata": {
  "application/vnd.databricks.v1+notebook": {
   "computePreferences": null,
   "dashboards": [],
   "environmentMetadata": {
    "base_environment": "",
    "environment_version": "2"
   },
   "inputWidgetPreferences": null,
   "language": "python",
   "notebookMetadata": {
    "pythonIndentUnit": 4
   },
   "notebookName": "Data Quality Check",
   "widgets": {}
  },
  "language_info": {
   "name": "python"
  }
 },
 "nbformat": 4,
 "nbformat_minor": 0
}
