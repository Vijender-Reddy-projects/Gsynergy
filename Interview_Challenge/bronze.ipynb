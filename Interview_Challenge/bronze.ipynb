{
 "cells": [
  {
   "cell_type": "markdown",
   "metadata": {
    "application/vnd.databricks.v1+cell": {
     "cellMetadata": {
      "byteLimit": 2048000,
      "rowLimit": 10000
     },
     "inputWidgets": {},
     "nuid": "4ca7710b-b7ea-4679-9f07-74e94ab04a77",
     "showTitle": false,
     "tableResultSettingsMap": {},
     "title": ""
    }
   },
   "source": [
    "### Bronze file paths\n",
    "These variables define the file paths for the raw `.gz` files stored in the Bronze container in Azure Data Lake."
   ]
  },
  {
   "cell_type": "code",
   "execution_count": 0,
   "metadata": {
    "application/vnd.databricks.v1+cell": {
     "cellMetadata": {
      "byteLimit": 2048000,
      "rowLimit": 10000
     },
     "inputWidgets": {},
     "nuid": "c0a77ac9-a47b-479f-b055-5477559a5c35",
     "showTitle": false,
     "tableResultSettingsMap": {},
     "title": ""
    }
   },
   "outputs": [],
   "source": [
    "fact_averagecosts_path = \"abfss://raw@dlgysnergy.dfs.core.windows.net/fact.averagecosts.dlm.gz\"\n",
    "fact_transactions_path = \"abfss://raw@dlgysnergy.dfs.core.windows.net/fact.transactions.dlm.gz\"\n",
    "hier_clnd_path         = \"abfss://raw@dlgysnergy.dfs.core.windows.net/hier.clnd.dlm.gz\"\n",
    "hier_hldy_path         = \"abfss://raw@dlgysnergy.dfs.core.windows.net/hier.hldy.dlm.gz\"\n",
    "hier_invloc_path       = \"abfss://raw@dlgysnergy.dfs.core.windows.net/hier.invloc.dlm.gz\"\n",
    "hier_invstatus_path    = \"abfss://raw@dlgysnergy.dfs.core.windows.net/hier.invstatus.dlm.gz\"\n",
    "hier_possite_path      = \"abfss://raw@dlgysnergy.dfs.core.windows.net/hier.possite.dlm.gz\"\n",
    "hier_pricestate_path   = \"abfss://raw@dlgysnergy.dfs.core.windows.net/hier.pricestate.dlm.gz\"\n",
    "hier_prod_path         = \"abfss://raw@dlgysnergy.dfs.core.windows.net/hier.prod.dlm.gz\"\n",
    "hier_rtlloc_path       = \"abfss://raw@dlgysnergy.dfs.core.windows.net/hier.rtlloc.dlm.gz\""
   ]
  },
  {
   "cell_type": "code",
   "execution_count": 0,
   "metadata": {
    "application/vnd.databricks.v1+cell": {
     "cellMetadata": {
      "byteLimit": 2048000,
      "rowLimit": 10000
     },
     "inputWidgets": {},
     "nuid": "39344d55-b918-45c6-a63d-24132e086698",
     "showTitle": false,
     "tableResultSettingsMap": {},
     "title": ""
    }
   },
   "outputs": [],
   "source": [
    "def read_gzip_toDataFrame(file_path: str):\n",
    " \n",
    "    df = spark.read \\\n",
    "        .option(\"delimiter\", \"|\") \\\n",
    "        .option(\"header\", \"true\") \\\n",
    "        .option(\"compression\", \"gzip\") \\\n",
    "        .csv(file_path)\n",
    "    \n",
    "    return df"
   ]
  },
  {
   "cell_type": "code",
   "execution_count": 0,
   "metadata": {
    "application/vnd.databricks.v1+cell": {
     "cellMetadata": {
      "byteLimit": 2048000,
      "rowLimit": 10000
     },
     "inputWidgets": {},
     "nuid": "64f263a2-6415-4bf1-9105-06281dc04e1f",
     "showTitle": false,
     "tableResultSettingsMap": {},
     "title": ""
    }
   },
   "outputs": [],
   "source": [
    "df_fact_averagecosts    = read_gzip_toDataFrame(fact_averagecosts_path)\n",
    "df_fact_averagecosts.limit(10).display()"
   ]
  },
  {
   "cell_type": "code",
   "execution_count": 0,
   "metadata": {
    "application/vnd.databricks.v1+cell": {
     "cellMetadata": {
      "byteLimit": 2048000,
      "rowLimit": 10000
     },
     "inputWidgets": {},
     "nuid": "27e1ab2b-b749-4460-96ef-ac6b4a4b1acb",
     "showTitle": false,
     "tableResultSettingsMap": {},
     "title": ""
    }
   },
   "outputs": [],
   "source": [
    "df_fact_averagecosts.printSchema()"
   ]
  },
  {
   "cell_type": "code",
   "execution_count": 0,
   "metadata": {
    "application/vnd.databricks.v1+cell": {
     "cellMetadata": {
      "byteLimit": 2048000,
      "rowLimit": 10000
     },
     "inputWidgets": {},
     "nuid": "7676f59f-01a1-4bb5-8be0-411bf86c94f0",
     "showTitle": false,
     "tableResultSettingsMap": {},
     "title": ""
    }
   },
   "outputs": [],
   "source": [
    "df_fact_transactions    = read_gzip_toDataFrame(fact_transactions_path)\n",
    "df_fact_transactions.limit(10).display()"
   ]
  },
  {
   "cell_type": "code",
   "execution_count": 0,
   "metadata": {
    "application/vnd.databricks.v1+cell": {
     "cellMetadata": {
      "byteLimit": 2048000,
      "rowLimit": 10000
     },
     "inputWidgets": {},
     "nuid": "caa53c0f-3b5b-4f2c-a627-818976291961",
     "showTitle": false,
     "tableResultSettingsMap": {},
     "title": ""
    }
   },
   "outputs": [],
   "source": [
    "df_fact_transactions.printSchema()"
   ]
  },
  {
   "cell_type": "code",
   "execution_count": 0,
   "metadata": {
    "application/vnd.databricks.v1+cell": {
     "cellMetadata": {
      "byteLimit": 2048000,
      "rowLimit": 10000
     },
     "inputWidgets": {},
     "nuid": "7f25ea7a-fabe-462a-8249-5dcc8b9c70af",
     "showTitle": false,
     "tableResultSettingsMap": {},
     "title": ""
    }
   },
   "outputs": [],
   "source": [
    "df_hier_clnd            = read_gzip_toDataFrame(hier_clnd_path)\n",
    "df_hier_clnd.limit(10).display()"
   ]
  },
  {
   "cell_type": "code",
   "execution_count": 0,
   "metadata": {
    "application/vnd.databricks.v1+cell": {
     "cellMetadata": {
      "byteLimit": 2048000,
      "rowLimit": 10000
     },
     "inputWidgets": {},
     "nuid": "a00ed5f6-0081-47aa-9892-5be8e6c37887",
     "showTitle": false,
     "tableResultSettingsMap": {},
     "title": ""
    }
   },
   "outputs": [],
   "source": [
    "df_hier_clnd.printSchema()"
   ]
  },
  {
   "cell_type": "code",
   "execution_count": 0,
   "metadata": {
    "application/vnd.databricks.v1+cell": {
     "cellMetadata": {
      "byteLimit": 2048000,
      "rowLimit": 10000
     },
     "inputWidgets": {},
     "nuid": "aa288b71-7d37-4682-bd6a-5c42777df864",
     "showTitle": false,
     "tableResultSettingsMap": {},
     "title": ""
    }
   },
   "outputs": [],
   "source": [
    "df_hier_hldy            = read_gzip_toDataFrame(hier_hldy_path)\n",
    "df_hier_hldy.limit(10).display()"
   ]
  },
  {
   "cell_type": "code",
   "execution_count": 0,
   "metadata": {
    "application/vnd.databricks.v1+cell": {
     "cellMetadata": {
      "byteLimit": 2048000,
      "rowLimit": 10000
     },
     "inputWidgets": {},
     "nuid": "653c632d-a999-4da6-b945-55acd8e174a9",
     "showTitle": false,
     "tableResultSettingsMap": {},
     "title": ""
    }
   },
   "outputs": [],
   "source": [
    "df_hier_hldy.printSchema()"
   ]
  },
  {
   "cell_type": "code",
   "execution_count": 0,
   "metadata": {
    "application/vnd.databricks.v1+cell": {
     "cellMetadata": {
      "byteLimit": 2048000,
      "rowLimit": 10000
     },
     "inputWidgets": {},
     "nuid": "555275e3-f537-4195-bf59-c7a7a0fdba68",
     "showTitle": false,
     "tableResultSettingsMap": {},
     "title": ""
    }
   },
   "outputs": [],
   "source": [
    "df_hier_invloc          = read_gzip_toDataFrame(hier_invloc_path)\n",
    "df_hier_invloc.limit(10).display()"
   ]
  },
  {
   "cell_type": "code",
   "execution_count": 0,
   "metadata": {
    "application/vnd.databricks.v1+cell": {
     "cellMetadata": {
      "byteLimit": 2048000,
      "rowLimit": 10000
     },
     "inputWidgets": {},
     "nuid": "7f981ce6-97ae-4646-b1d0-58df61653e93",
     "showTitle": false,
     "tableResultSettingsMap": {},
     "title": ""
    }
   },
   "outputs": [],
   "source": [
    "df_hier_invloc.printSchema()"
   ]
  },
  {
   "cell_type": "code",
   "execution_count": 0,
   "metadata": {
    "application/vnd.databricks.v1+cell": {
     "cellMetadata": {
      "byteLimit": 2048000,
      "rowLimit": 10000
     },
     "inputWidgets": {},
     "nuid": "c1267653-47c1-4bbe-a292-57a097f1e484",
     "showTitle": false,
     "tableResultSettingsMap": {},
     "title": ""
    }
   },
   "outputs": [],
   "source": [
    "df_hier_invstatus       = read_gzip_toDataFrame(hier_invstatus_path)\n",
    "df_hier_invstatus.limit(10).display()"
   ]
  },
  {
   "cell_type": "code",
   "execution_count": 0,
   "metadata": {
    "application/vnd.databricks.v1+cell": {
     "cellMetadata": {
      "byteLimit": 2048000,
      "rowLimit": 10000
     },
     "inputWidgets": {},
     "nuid": "bfef5cdd-53c8-4b55-af4b-eb1225b6f632",
     "showTitle": false,
     "tableResultSettingsMap": {},
     "title": ""
    }
   },
   "outputs": [],
   "source": [
    "df_hier_invstatus.printSchema()"
   ]
  },
  {
   "cell_type": "code",
   "execution_count": 0,
   "metadata": {
    "application/vnd.databricks.v1+cell": {
     "cellMetadata": {
      "byteLimit": 2048000,
      "rowLimit": 10000
     },
     "inputWidgets": {},
     "nuid": "2ae2c0b9-5dde-4c51-ac6d-81e5bdd4ecf4",
     "showTitle": false,
     "tableResultSettingsMap": {},
     "title": ""
    }
   },
   "outputs": [],
   "source": [
    "df_hier_possite         = read_gzip_toDataFrame(hier_possite_path)\n",
    "df_hier_possite.limit(10).display()"
   ]
  },
  {
   "cell_type": "code",
   "execution_count": 0,
   "metadata": {
    "application/vnd.databricks.v1+cell": {
     "cellMetadata": {
      "byteLimit": 2048000,
      "rowLimit": 10000
     },
     "inputWidgets": {},
     "nuid": "1caad198-eecd-480a-b63f-8726871da524",
     "showTitle": false,
     "tableResultSettingsMap": {},
     "title": ""
    }
   },
   "outputs": [],
   "source": [
    "df_hier_possite.printSchema()"
   ]
  },
  {
   "cell_type": "code",
   "execution_count": 0,
   "metadata": {
    "application/vnd.databricks.v1+cell": {
     "cellMetadata": {
      "byteLimit": 2048000,
      "rowLimit": 10000
     },
     "inputWidgets": {},
     "nuid": "9c310ec4-4965-4852-93fd-eb6e4d6e857e",
     "showTitle": false,
     "tableResultSettingsMap": {},
     "title": ""
    }
   },
   "outputs": [],
   "source": [
    "df_hier_pricestate      = read_gzip_toDataFrame(hier_pricestate_path)\n",
    "df_hier_pricestate.limit(10).display()"
   ]
  },
  {
   "cell_type": "code",
   "execution_count": 0,
   "metadata": {
    "application/vnd.databricks.v1+cell": {
     "cellMetadata": {
      "byteLimit": 2048000,
      "rowLimit": 10000
     },
     "inputWidgets": {},
     "nuid": "a1dc592d-b581-4870-9aed-450cd707c3bd",
     "showTitle": false,
     "tableResultSettingsMap": {},
     "title": ""
    }
   },
   "outputs": [],
   "source": [
    "df_hier_pricestate.printSchema()"
   ]
  },
  {
   "cell_type": "code",
   "execution_count": 0,
   "metadata": {
    "application/vnd.databricks.v1+cell": {
     "cellMetadata": {
      "byteLimit": 2048000,
      "rowLimit": 10000
     },
     "inputWidgets": {},
     "nuid": "c9a5a787-9639-4cf1-a63c-4d8cb51d28f1",
     "showTitle": false,
     "tableResultSettingsMap": {},
     "title": ""
    }
   },
   "outputs": [],
   "source": [
    "df_hier_prod            = read_gzip_toDataFrame(hier_prod_path)\n",
    "df_hier_prod.limit(10).display()"
   ]
  },
  {
   "cell_type": "code",
   "execution_count": 0,
   "metadata": {
    "application/vnd.databricks.v1+cell": {
     "cellMetadata": {
      "byteLimit": 2048000,
      "rowLimit": 10000
     },
     "inputWidgets": {},
     "nuid": "a15f02ef-2adc-4333-acda-b9bfd05d6237",
     "showTitle": false,
     "tableResultSettingsMap": {},
     "title": ""
    }
   },
   "outputs": [],
   "source": [
    "df_hier_prod.printSchema()"
   ]
  },
  {
   "cell_type": "code",
   "execution_count": 0,
   "metadata": {
    "application/vnd.databricks.v1+cell": {
     "cellMetadata": {
      "byteLimit": 2048000,
      "rowLimit": 10000
     },
     "inputWidgets": {},
     "nuid": "4568de5e-afdf-4c26-ab25-98f3d6c6d9f8",
     "showTitle": false,
     "tableResultSettingsMap": {},
     "title": ""
    }
   },
   "outputs": [],
   "source": [
    "df_hier_rtlloc          = read_gzip_toDataFrame(hier_rtlloc_path)\n",
    "df_hier_rtlloc.limit(10).display()"
   ]
  },
  {
   "cell_type": "code",
   "execution_count": 0,
   "metadata": {
    "application/vnd.databricks.v1+cell": {
     "cellMetadata": {
      "byteLimit": 2048000,
      "rowLimit": 10000
     },
     "inputWidgets": {},
     "nuid": "f0d4868b-e36b-4d57-b4cf-9912b3109c21",
     "showTitle": false,
     "tableResultSettingsMap": {},
     "title": ""
    }
   },
   "outputs": [],
   "source": [
    "df_hier_rtlloc.printSchema()"
   ]
  },
  {
   "cell_type": "code",
   "execution_count": 0,
   "metadata": {
    "application/vnd.databricks.v1+cell": {
     "cellMetadata": {
      "byteLimit": 2048000,
      "rowLimit": 10000
     },
     "inputWidgets": {},
     "nuid": "281d38f7-ecfc-4c6f-a2ef-893869442559",
     "showTitle": false,
     "tableResultSettingsMap": {},
     "title": ""
    }
   },
   "outputs": [],
   "source": [
    "def write_to_bronze(df, df_name: str, mode: str = \"overwrite\"):\n",
    "    subfolder_name = df_name.replace(\"df_\", \"\") + \"_bz\"\n",
    "    bronze_path = f\"abfss://bronze@dlgysnergy.dfs.core.windows.net/{subfolder_name}\"\n",
    "    df.write.format(\"delta\").mode(mode).save(bronze_path)\n",
    "    print(f\"File written from {df_name} to Bronze folder: {bronze_path}\")\n"
   ]
  },
  {
   "cell_type": "code",
   "execution_count": 0,
   "metadata": {
    "application/vnd.databricks.v1+cell": {
     "cellMetadata": {
      "byteLimit": 2048000,
      "rowLimit": 10000
     },
     "inputWidgets": {},
     "nuid": "e89f2a16-ae51-48ef-b8b2-e32cadc44514",
     "showTitle": false,
     "tableResultSettingsMap": {},
     "title": ""
    }
   },
   "outputs": [],
   "source": [
    "write_to_bronze(df_fact_averagecosts, \"df_fact_averagecosts\")\n",
    "write_to_bronze(df_fact_transactions, \"df_fact_transactions\")   \n",
    "write_to_bronze(df_hier_clnd, \"df_hier_clnd\")\n",
    "write_to_bronze(df_hier_hldy, \"df_hier_hldy\")\n",
    "write_to_bronze(df_hier_invloc, \"df_hier_invloc\")\n",
    "write_to_bronze(df_hier_invstatus, \"df_hier_invstatus\")\n",
    "write_to_bronze(df_hier_possite, \"df_hier_possite\")\n",
    "write_to_bronze(df_hier_pricestate, \"df_hier_pricestate\")\n",
    "write_to_bronze(df_hier_prod, \"df_hier_prod\")\n",
    "write_to_bronze(df_hier_rtlloc, \"df_hier_rtlloc\")\n",
    "\n"
   ]
  }
 ],
 "metadata": {
  "application/vnd.databricks.v1+notebook": {
   "computePreferences": null,
   "dashboards": [],
   "environmentMetadata": {
    "base_environment": "",
    "environment_version": "2"
   },
   "inputWidgetPreferences": null,
   "language": "python",
   "notebookMetadata": {
    "pythonIndentUnit": 4
   },
   "notebookName": "bronze",
   "widgets": {}
  },
  "language_info": {
   "name": "python"
  }
 },
 "nbformat": 4,
 "nbformat_minor": 0
}
